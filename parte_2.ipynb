{
 "cells": [
  {
   "cell_type": "markdown",
   "id": "34485607",
   "metadata": {},
   "source": [
    "### Importação de bibliotecas\n",
    "execução no jupyter via anaconda"
   ]
  },
  {
   "cell_type": "code",
   "execution_count": 1,
   "id": "0932a2a1",
   "metadata": {},
   "outputs": [],
   "source": [
    "from pyspark.sql import SparkSession\n",
    "from pyspark.ml.feature import (VectorAssembler,VectorIndexer,\n",
    "                                OneHotEncoder,StringIndexer)\n",
    "from pyspark.ml.classification import LogisticRegression\n",
    "from pyspark.ml import Pipeline\n",
    "from pyspark.ml.evaluation import BinaryClassificationEvaluator\n",
    "from pyspark.ml.classification import DecisionTreeClassifier\n",
    "from pyspark.ml.classification import GBTClassifier\n",
    "from pyspark.ml.evaluation import MulticlassClassificationEvaluator"
   ]
  },
  {
   "cell_type": "markdown",
   "id": "911f6817",
   "metadata": {},
   "source": [
    "#caso o codigo seja executado no google colab, instalar as bibliotecas abaixo\n",
    "!pip install pyspark\n",
    "!pip install -q findspark\n",
    "import pyarrow\n",
    "import pyspark\n",
    "import pandas as pd\n",
    "import pyspark.pandas as ps\n",
    "from pyspark.sql import SparkSession\n",
    "from pyspark.sql import *\n",
    "from pyspark.sql.functions import *\n",
    "from pyspark.ml import Pipeline\n",
    "from pyspark.ml.classification import LogisticRegression\n",
    "from pyspark.ml.feature import HashingTF, Tokenizer\n",
    "from pyspark.sql import Row\n",
    "from pyspark.sql.functions import UserDefinedFunction\n",
    "from pyspark.sql.types import *\n",
    "import matplotlib.pyplot as plt\n",
    "import numpy as np\n",
    "import seaborn as sns\n",
    "import csv\n",
    "import matplotlib.pyplot as plt\n",
    "%matplotlib inline"
   ]
  },
  {
   "cell_type": "markdown",
   "id": "00da3706",
   "metadata": {},
   "source": [
    "### Inicia uma sessão Spark"
   ]
  },
  {
   "cell_type": "code",
   "execution_count": 2,
   "id": "94d68c5d",
   "metadata": {},
   "outputs": [
    {
     "name": "stderr",
     "output_type": "stream",
     "text": [
      "22/06/18 18:13:08 WARN Utils: Your hostname, douglas resolves to a loopback address: 127.0.1.1; using 192.168.100.32 instead (on interface enp6s0)\n",
      "22/06/18 18:13:08 WARN Utils: Set SPARK_LOCAL_IP if you need to bind to another address\n",
      "WARNING: An illegal reflective access operation has occurred\n",
      "WARNING: Illegal reflective access by org.apache.spark.unsafe.Platform (file:/home/douglas/Downloads/spark/jars/spark-unsafe_2.12-3.2.1.jar) to constructor java.nio.DirectByteBuffer(long,int)\n",
      "WARNING: Please consider reporting this to the maintainers of org.apache.spark.unsafe.Platform\n",
      "WARNING: Use --illegal-access=warn to enable warnings of further illegal reflective access operations\n",
      "WARNING: All illegal access operations will be denied in a future release\n",
      "Using Spark's default log4j profile: org/apache/spark/log4j-defaults.properties\n",
      "Setting default log level to \"WARN\".\n",
      "To adjust logging level use sc.setLogLevel(newLevel). For SparkR, use setLogLevel(newLevel).\n",
      "22/06/18 18:13:09 WARN NativeCodeLoader: Unable to load native-hadoop library for your platform... using builtin-java classes where applicable\n"
     ]
    }
   ],
   "source": [
    "spark = SparkSession.builder.appName(\"atividade_somativa\").getOrCreate()"
   ]
  },
  {
   "cell_type": "code",
   "execution_count": 3,
   "id": "9dcd700b",
   "metadata": {},
   "outputs": [
    {
     "data": {
      "text/html": [
       "\n",
       "            <div>\n",
       "                <p><b>SparkSession - in-memory</b></p>\n",
       "                \n",
       "        <div>\n",
       "            <p><b>SparkContext</b></p>\n",
       "\n",
       "            <p><a href=\"http://192.168.100.32:4040\">Spark UI</a></p>\n",
       "\n",
       "            <dl>\n",
       "              <dt>Version</dt>\n",
       "                <dd><code>v3.2.1</code></dd>\n",
       "              <dt>Master</dt>\n",
       "                <dd><code>local[*]</code></dd>\n",
       "              <dt>AppName</dt>\n",
       "                <dd><code>atividade_somativa</code></dd>\n",
       "            </dl>\n",
       "        </div>\n",
       "        \n",
       "            </div>\n",
       "        "
      ],
      "text/plain": [
       "<pyspark.sql.session.SparkSession at 0x7f3adc12d9d0>"
      ]
     },
     "execution_count": 3,
     "metadata": {},
     "output_type": "execute_result"
    }
   ],
   "source": [
    "spark"
   ]
  },
  {
   "cell_type": "markdown",
   "id": "92e4856c",
   "metadata": {},
   "source": [
    "### Carrega o dataset gerado já manipulado gerado ao fim da parte_1"
   ]
  },
  {
   "cell_type": "code",
   "execution_count": 4,
   "id": "e88f8de3",
   "metadata": {},
   "outputs": [
    {
     "name": "stderr",
     "output_type": "stream",
     "text": [
      "\r",
      "[Stage 1:=========>                                                 (1 + 5) / 6]\r",
      "\r",
      "                                                                                \r"
     ]
    }
   ],
   "source": [
    "df = spark.read.csv(\"dados_saude.csv\",inferSchema=True,header=True)"
   ]
  },
  {
   "cell_type": "code",
   "execution_count": 5,
   "id": "5fb4a884",
   "metadata": {},
   "outputs": [
    {
     "name": "stdout",
     "output_type": "stream",
     "text": [
      "root\n",
      " |-- Sexo: string (nullable = true)\n",
      " |-- Descrição do CID: string (nullable = true)\n",
      " |-- Solicitação de Exames: string (nullable = true)\n",
      " |-- Encaminhamento para Atendimento Especialista: string (nullable = true)\n",
      " |-- Desencadeou Internamento: integer (nullable = true)\n",
      " |-- Abastecimento: string (nullable = true)\n",
      " |-- Energia Elétrica: string (nullable = true)\n",
      " |-- Tipo de Habitação: string (nullable = true)\n",
      " |-- Destino Lixo: string (nullable = true)\n",
      " |-- Fezes/Urina: string (nullable = true)\n",
      "\n"
     ]
    }
   ],
   "source": [
    "df.printSchema()"
   ]
  },
  {
   "cell_type": "markdown",
   "id": "3b277f14",
   "metadata": {},
   "source": [
    "### Selecionada algumas colunas para que abaixo fosse elimiando os nulls. Ao executar o código sem fazer isso um erro ocorria devido a existências de nulls, mesmo tendo os eliminado em etapa enterior."
   ]
  },
  {
   "cell_type": "code",
   "execution_count": 6,
   "id": "8074e57d",
   "metadata": {},
   "outputs": [],
   "source": [
    "colunas = df.select([\"Sexo\",\n",
    "                     \"Descrição do CID\",\n",
    "                     \"Solicitação de Exames\",\n",
    "                     \"Encaminhamento para Atendimento Especialista\",\n",
    "                     \"Desencadeou Internamento\",\n",
    "                     \"Abastecimento\",\n",
    "                     \"Energia Elétrica\",\n",
    "                     \"Tipo de Habitação\",\n",
    "                     \"Destino Lixo\",\n",
    "                     \"Fezes/Urina\"\n",
    "]\n",
    ")"
   ]
  },
  {
   "cell_type": "code",
   "execution_count": 7,
   "id": "73f4c575",
   "metadata": {},
   "outputs": [],
   "source": [
    "df = colunas.na.drop()"
   ]
  },
  {
   "cell_type": "markdown",
   "id": "1753e9c0",
   "metadata": {},
   "source": [
    "### Todos os dados categóricos são transformados em vetores para que possam ser usados no algoritimos de machine learning"
   ]
  },
  {
   "cell_type": "code",
   "execution_count": 8,
   "id": "c2b44e88",
   "metadata": {},
   "outputs": [],
   "source": [
    "sexo_indexer = StringIndexer(inputCol='Sexo',outputCol='SexoIndex')\n",
    "sexo_encoder = OneHotEncoder(inputCol='SexoIndex',outputCol='SexoVec')"
   ]
  },
  {
   "cell_type": "markdown",
   "id": "6a90c2f5",
   "metadata": {},
   "source": [
    "descricao_procedimento_indexer = StringIndexer(inputCol='Descrição do Procedimento',outputCol='Descricao_ProcedimentoIndex')\n",
    "descricao_procedimento_encoder = OneHotEncoder(inputCol='Descricao_ProcedimentoIndex',outputCol='Descricao_ProcedimentoVec')"
   ]
  },
  {
   "cell_type": "code",
   "execution_count": 9,
   "id": "a90b4b67",
   "metadata": {},
   "outputs": [],
   "source": [
    "descricao_CID_indexer = StringIndexer(inputCol='Descrição do CID',outputCol='Descricao_CIDIndex')\n",
    "descricao_CID_encoder = OneHotEncoder(inputCol='Descricao_CIDIndex',outputCol='Descricao_CIDVec')"
   ]
  },
  {
   "cell_type": "code",
   "execution_count": 10,
   "id": "c0a4ab5a",
   "metadata": {},
   "outputs": [],
   "source": [
    "solicitacao_exames_indexer = StringIndexer(inputCol='Solicitação de Exames',outputCol='Solicitacao_ExamesIndex')\n",
    "solicitacao_exames_enconder = OneHotEncoder(inputCol='Solicitacao_ExamesIndex',outputCol='Solicitacao_ExamesVec')"
   ]
  },
  {
   "cell_type": "code",
   "execution_count": 11,
   "id": "40a7f6be",
   "metadata": {},
   "outputs": [],
   "source": [
    "encaminhamento_especialista_indexer = StringIndexer(inputCol='Encaminhamento para Atendimento Especialista',outputCol='Encaminhamento_EspecialistaIndex')\n",
    "encaminhamento_especialista_encoder = OneHotEncoder(inputCol='Encaminhamento_EspecialistaIndex',outputCol='Encaminhamento_EspecialistaVec')"
   ]
  },
  {
   "cell_type": "code",
   "execution_count": 12,
   "id": "83621ee1",
   "metadata": {},
   "outputs": [],
   "source": [
    "desencadeou_internamento_indexer = StringIndexer(inputCol='Desencadeou Internamento',outputCol='Desencadeou_InternamentoIndex')\n",
    "desencadeou_internamento_encoder = OneHotEncoder(inputCol='Desencadeou_InternamentoIndex',outputCol='Desencadeou_InternamentoVec')"
   ]
  },
  {
   "cell_type": "code",
   "execution_count": 13,
   "id": "666ba0f8",
   "metadata": {},
   "outputs": [],
   "source": [
    "abastecimento_indexer = StringIndexer(inputCol='Abastecimento',outputCol='AbastecimentoIndex')\n",
    "abastecimentoIndex_encoder = OneHotEncoder(inputCol='AbastecimentoIndex',outputCol='AbastecimentoVec')"
   ]
  },
  {
   "cell_type": "code",
   "execution_count": 14,
   "id": "3eac71c9",
   "metadata": {},
   "outputs": [],
   "source": [
    "energia_eletrica_indexer = StringIndexer(inputCol='Energia Elétrica',outputCol='Energia_EletricaIndex')\n",
    "energia_eletrica_encoder = OneHotEncoder(inputCol='Energia_EletricaIndex',outputCol='Energia_EletricaVec')"
   ]
  },
  {
   "cell_type": "code",
   "execution_count": 15,
   "id": "10d0cd05",
   "metadata": {},
   "outputs": [],
   "source": [
    "tipo_habitacao_indexer = StringIndexer(inputCol='Tipo de Habitação',outputCol='Tipo_HabitacaoIndex')\n",
    "tipo_habitacao_encoder = OneHotEncoder(inputCol='Tipo_HabitacaoIndex',outputCol='Tipo_HabitacaoVec')"
   ]
  },
  {
   "cell_type": "code",
   "execution_count": 16,
   "id": "917b7622",
   "metadata": {},
   "outputs": [],
   "source": [
    "destino_lixo_indexer = StringIndexer(inputCol='Destino Lixo',outputCol='Destino_LixoIndex')\n",
    "destino_lixo_encoder = OneHotEncoder(inputCol='Destino_LixoIndex',outputCol='Destino_LixoVec')"
   ]
  },
  {
   "cell_type": "code",
   "execution_count": 17,
   "id": "8891e5dd",
   "metadata": {},
   "outputs": [],
   "source": [
    "fezes_urina_indexer = StringIndexer(inputCol='Fezes/Urina',outputCol='Fezes_UrinaIndex')\n",
    "fezes_urina_encoder = OneHotEncoder(inputCol='Fezes_UrinaIndex',outputCol='Fezes_UrinaVec')"
   ]
  },
  {
   "cell_type": "markdown",
   "id": "a865469a",
   "metadata": {},
   "source": [
    "### A partir dos vetores criados acima é criada uma coluna \"features\". Posteriormente será usa no algorítimo de classificação"
   ]
  },
  {
   "cell_type": "code",
   "execution_count": 18,
   "id": "95ba4647",
   "metadata": {},
   "outputs": [],
   "source": [
    "assembler = VectorAssembler(inputCols=[\n",
    " 'SexoVec',\n",
    " 'Descricao_CIDVec',\n",
    " 'Solicitacao_ExamesVec',\n",
    " 'Encaminhamento_EspecialistaVec',\n",
    " 'AbastecimentoVec',\n",
    "'Energia_EletricaVec',\n",
    "'Tipo_HabitacaoVec',\n",
    "'Destino_LixoVec',\n",
    "'Fezes_UrinaVec'],outputCol='features')"
   ]
  },
  {
   "cell_type": "markdown",
   "id": "56de9150",
   "metadata": {},
   "source": [
    "### Treina um modelo de Logistic Regression"
   ]
  },
  {
   "cell_type": "code",
   "execution_count": 19,
   "id": "b8a7cb28",
   "metadata": {},
   "outputs": [],
   "source": [
    "log_reg= LogisticRegression(featuresCol='features',labelCol='Desencadeou Internamento')"
   ]
  },
  {
   "cell_type": "markdown",
   "id": "80c8e76d",
   "metadata": {},
   "source": [
    "### cria uma pipeline"
   ]
  },
  {
   "cell_type": "markdown",
   "id": "25282ec2",
   "metadata": {},
   "source": [
    "retirei  descricao_procedimento_indexer, \n",
    "                            descricao_procedimento_encoder,"
   ]
  },
  {
   "cell_type": "code",
   "execution_count": 20,
   "id": "fa5a8a82",
   "metadata": {},
   "outputs": [],
   "source": [
    "pipeline = Pipeline(stages=[sexo_indexer,sexo_encoder,\n",
    "                            descricao_CID_indexer,\n",
    "                            descricao_CID_encoder,\n",
    "                            solicitacao_exames_indexer,\n",
    "                            solicitacao_exames_enconder,\n",
    "                            encaminhamento_especialista_indexer,\n",
    "                            encaminhamento_especialista_encoder,\n",
    "                            abastecimento_indexer,\n",
    "                            abastecimentoIndex_encoder,\n",
    "                            energia_eletrica_indexer,\n",
    "                            energia_eletrica_encoder,\n",
    "                            tipo_habitacao_indexer,\n",
    "                            tipo_habitacao_encoder,\n",
    "                            destino_lixo_indexer,\n",
    "                            destino_lixo_encoder,\n",
    "                            fezes_urina_indexer,\n",
    "                            fezes_urina_encoder,\n",
    "                           assembler,log_reg])"
   ]
  },
  {
   "cell_type": "markdown",
   "id": "75aec9db",
   "metadata": {},
   "source": [
    "### Separa os dados em treino e teste"
   ]
  },
  {
   "cell_type": "code",
   "execution_count": 21,
   "id": "3ab4745c",
   "metadata": {},
   "outputs": [],
   "source": [
    "train_data, test_data = df.randomSplit([0.7,.3])"
   ]
  },
  {
   "cell_type": "markdown",
   "id": "8e6d1cc9",
   "metadata": {},
   "source": [
    "### Treina o modelo"
   ]
  },
  {
   "cell_type": "code",
   "execution_count": 22,
   "id": "11b08220",
   "metadata": {},
   "outputs": [
    {
     "name": "stderr",
     "output_type": "stream",
     "text": [
      "                                                                                \r"
     ]
    }
   ],
   "source": [
    "fit_model = pipeline.fit(train_data)"
   ]
  },
  {
   "cell_type": "markdown",
   "id": "699eb956",
   "metadata": {},
   "source": [
    "### Testa o modelo"
   ]
  },
  {
   "cell_type": "code",
   "execution_count": 23,
   "id": "a0386ff3",
   "metadata": {},
   "outputs": [],
   "source": [
    "resultado = fit_model.transform(test_data)"
   ]
  },
  {
   "cell_type": "markdown",
   "id": "b69261d3",
   "metadata": {},
   "source": [
    "### Avalia o modelo"
   ]
  },
  {
   "cell_type": "code",
   "execution_count": 24,
   "id": "11827c5c",
   "metadata": {},
   "outputs": [],
   "source": [
    "minha_avaliacao = BinaryClassificationEvaluator(rawPredictionCol='prediction',\n",
    "                                       labelCol='Desencadeou Internamento')"
   ]
  },
  {
   "cell_type": "code",
   "execution_count": 25,
   "id": "a618f35d",
   "metadata": {},
   "outputs": [
    {
     "name": "stdout",
     "output_type": "stream",
     "text": [
      "+------------------------+----------+\n",
      "|Desencadeou Internamento|prediction|\n",
      "+------------------------+----------+\n",
      "|                       0|       0.0|\n",
      "|                       0|       0.0|\n",
      "|                       0|       0.0|\n",
      "|                       0|       0.0|\n",
      "|                       0|       0.0|\n",
      "|                       0|       0.0|\n",
      "|                       0|       0.0|\n",
      "|                       0|       0.0|\n",
      "|                       0|       0.0|\n",
      "|                       0|       0.0|\n",
      "|                       0|       0.0|\n",
      "|                       0|       0.0|\n",
      "|                       0|       0.0|\n",
      "|                       0|       0.0|\n",
      "|                       0|       0.0|\n",
      "|                       0|       0.0|\n",
      "|                       0|       0.0|\n",
      "|                       0|       0.0|\n",
      "|                       0|       0.0|\n",
      "|                       0|       0.0|\n",
      "+------------------------+----------+\n",
      "only showing top 20 rows\n",
      "\n"
     ]
    }
   ],
   "source": [
    "resultado.select('Desencadeou Internamento','prediction').show()"
   ]
  },
  {
   "cell_type": "code",
   "execution_count": 26,
   "id": "3843e7b5",
   "metadata": {
    "scrolled": false
   },
   "outputs": [
    {
     "name": "stderr",
     "output_type": "stream",
     "text": [
      "\r",
      "[Stage 248:============================>                            (3 + 3) / 6]\r",
      "\r",
      "                                                                                \r"
     ]
    }
   ],
   "source": [
    "AUC = minha_avaliacao.evaluate(resultado)"
   ]
  },
  {
   "cell_type": "code",
   "execution_count": 27,
   "id": "efe58850",
   "metadata": {},
   "outputs": [
    {
     "data": {
      "text/plain": [
       "0.5"
      ]
     },
     "execution_count": 27,
     "metadata": {},
     "output_type": "execute_result"
    }
   ],
   "source": [
    "AUC"
   ]
  },
  {
   "cell_type": "markdown",
   "id": "f2a4d3ea",
   "metadata": {},
   "source": [
    "### Treina um modelo de Decision Tree"
   ]
  },
  {
   "cell_type": "code",
   "execution_count": 28,
   "id": "d48f73d3",
   "metadata": {},
   "outputs": [],
   "source": [
    "dt = DecisionTreeClassifier(featuresCol='features',labelCol='Desencadeou Internamento')"
   ]
  },
  {
   "cell_type": "markdown",
   "id": "02036d3e",
   "metadata": {},
   "source": [
    "### Cria outro pipeline com os mesmos dados"
   ]
  },
  {
   "cell_type": "markdown",
   "id": "0b51ae0b",
   "metadata": {},
   "source": [
    "retirei descricao_procedimento_indexer, \n",
    "                            descricao_procedimento_encoder,"
   ]
  },
  {
   "cell_type": "code",
   "execution_count": 29,
   "id": "22a10e3d",
   "metadata": {},
   "outputs": [],
   "source": [
    "pipeline2 = Pipeline(stages=[sexo_indexer,sexo_encoder,\n",
    "                            descricao_CID_indexer,\n",
    "                            descricao_CID_encoder,\n",
    "                            solicitacao_exames_indexer,\n",
    "                            solicitacao_exames_enconder,\n",
    "                            encaminhamento_especialista_indexer,\n",
    "                            encaminhamento_especialista_encoder,\n",
    "                            abastecimento_indexer,\n",
    "                            abastecimentoIndex_encoder,\n",
    "                            energia_eletrica_indexer,\n",
    "                            energia_eletrica_encoder,\n",
    "                            tipo_habitacao_indexer,\n",
    "                            tipo_habitacao_encoder,\n",
    "                            destino_lixo_indexer,\n",
    "                            destino_lixo_encoder,\n",
    "                            fezes_urina_indexer,\n",
    "                            fezes_urina_encoder,\n",
    "                           assembler,dt])"
   ]
  },
  {
   "cell_type": "markdown",
   "id": "ec4be73b",
   "metadata": {},
   "source": [
    "### Treina o modelo"
   ]
  },
  {
   "cell_type": "code",
   "execution_count": 30,
   "id": "870e11c9",
   "metadata": {},
   "outputs": [],
   "source": [
    "model = pipeline2.fit(train_data)\n"
   ]
  },
  {
   "cell_type": "markdown",
   "id": "b1cf5b5a",
   "metadata": {},
   "source": [
    "### Testa o modelo"
   ]
  },
  {
   "cell_type": "code",
   "execution_count": 31,
   "id": "1fe27c2a",
   "metadata": {},
   "outputs": [],
   "source": [
    "predictions = model.transform(test_data)"
   ]
  },
  {
   "cell_type": "code",
   "execution_count": 32,
   "id": "96ed6586",
   "metadata": {},
   "outputs": [
    {
     "name": "stdout",
     "output_type": "stream",
     "text": [
      "+------------------------+----------+\n",
      "|Desencadeou Internamento|prediction|\n",
      "+------------------------+----------+\n",
      "|                       0|       0.0|\n",
      "|                       0|       0.0|\n",
      "|                       0|       0.0|\n",
      "|                       0|       0.0|\n",
      "|                       0|       0.0|\n",
      "|                       0|       0.0|\n",
      "|                       0|       0.0|\n",
      "|                       0|       0.0|\n",
      "|                       0|       0.0|\n",
      "|                       0|       0.0|\n",
      "|                       0|       0.0|\n",
      "|                       0|       0.0|\n",
      "|                       0|       0.0|\n",
      "|                       0|       0.0|\n",
      "|                       0|       0.0|\n",
      "|                       0|       0.0|\n",
      "|                       0|       0.0|\n",
      "|                       0|       0.0|\n",
      "|                       0|       0.0|\n",
      "|                       0|       0.0|\n",
      "+------------------------+----------+\n",
      "only showing top 20 rows\n",
      "\n"
     ]
    }
   ],
   "source": [
    "predictions.select('Desencadeou Internamento','prediction').show()"
   ]
  },
  {
   "cell_type": "markdown",
   "id": "c053c5ca",
   "metadata": {},
   "source": [
    "### Avalia o modelo"
   ]
  },
  {
   "cell_type": "code",
   "execution_count": 33,
   "id": "2eca7791",
   "metadata": {},
   "outputs": [
    {
     "name": "stdout",
     "output_type": "stream",
     "text": [
      "Test Error = 0.00340221 \n"
     ]
    }
   ],
   "source": [
    "evaluator2 = MulticlassClassificationEvaluator(\n",
    "    labelCol=\"Desencadeou Internamento\", predictionCol=\"prediction\", metricName=\"accuracy\")\n",
    "accuracy = evaluator2.evaluate(predictions)\n",
    "print(\"Test Error = %g \" % (1.0 - accuracy))"
   ]
  },
  {
   "cell_type": "code",
   "execution_count": 34,
   "id": "4b237046",
   "metadata": {},
   "outputs": [
    {
     "data": {
      "text/plain": [
       "0.9965977927142976"
      ]
     },
     "execution_count": 34,
     "metadata": {},
     "output_type": "execute_result"
    }
   ],
   "source": [
    "accuracy"
   ]
  }
 ],
 "metadata": {
  "kernelspec": {
   "display_name": "Python 3 (ipykernel)",
   "language": "python",
   "name": "python3"
  },
  "language_info": {
   "codemirror_mode": {
    "name": "ipython",
    "version": 3
   },
   "file_extension": ".py",
   "mimetype": "text/x-python",
   "name": "python",
   "nbconvert_exporter": "python",
   "pygments_lexer": "ipython3",
   "version": "3.9.7"
  }
 },
 "nbformat": 4,
 "nbformat_minor": 5
}
